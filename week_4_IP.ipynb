{
  "nbformat": 4,
  "nbformat_minor": 0,
  "metadata": {
    "colab": {
      "name": "week_4_IP.ipynb",
      "provenance": [],
      "authorship_tag": "ABX9TyP3LZaiD+iwNLS9wNiDEuXm",
      "include_colab_link": true
    },
    "kernelspec": {
      "name": "python3",
      "display_name": "Python 3"
    },
    "language_info": {
      "name": "python"
    }
  },
  "cells": [
    {
      "cell_type": "markdown",
      "metadata": {
        "id": "view-in-github",
        "colab_type": "text"
      },
      "source": [
        "<a href=\"https://colab.research.google.com/github/Jobby-John/Week-4-ip/blob/main/week_4_IP.ipynb\" target=\"_parent\"><img src=\"https://colab.research.google.com/assets/colab-badge.svg\" alt=\"Open In Colab\"/></a>"
      ]
    },
    {
      "cell_type": "code",
      "metadata": {
        "id": "kllFQE7fxrLy"
      },
      "source": [
        "# importing libraries\n",
        "import pandas as pd\n",
        "import numpy as np\n",
        "import seaborn as sns\n",
        "import matplotlib\n",
        "from matplotlib import pyplot as plt\n",
        "%matplotlib inline\n"
      ],
      "execution_count": 60,
      "outputs": []
    },
    {
      "cell_type": "code",
      "metadata": {
        "colab": {
          "base_uri": "https://localhost:8080/",
          "height": 244
        },
        "id": "Avt-9ijCytwn",
        "outputId": "b4713abb-4293-446b-c034-971f9975c5b4"
      },
      "source": [
        "# reading in data\n",
        "url = 'http://bit.ly/DSCoreAutolibDataset'\n",
        "df = pd.read_csv(url)\n",
        "df.head()"
      ],
      "execution_count": 61,
      "outputs": [
        {
          "output_type": "execute_result",
          "data": {
            "text/html": [
              "<div>\n",
              "<style scoped>\n",
              "    .dataframe tbody tr th:only-of-type {\n",
              "        vertical-align: middle;\n",
              "    }\n",
              "\n",
              "    .dataframe tbody tr th {\n",
              "        vertical-align: top;\n",
              "    }\n",
              "\n",
              "    .dataframe thead th {\n",
              "        text-align: right;\n",
              "    }\n",
              "</style>\n",
              "<table border=\"1\" class=\"dataframe\">\n",
              "  <thead>\n",
              "    <tr style=\"text-align: right;\">\n",
              "      <th></th>\n",
              "      <th>Postal code</th>\n",
              "      <th>date</th>\n",
              "      <th>n_daily_data_points</th>\n",
              "      <th>dayOfWeek</th>\n",
              "      <th>day_type</th>\n",
              "      <th>BlueCars_taken_sum</th>\n",
              "      <th>BlueCars_returned_sum</th>\n",
              "      <th>Utilib_taken_sum</th>\n",
              "      <th>Utilib_returned_sum</th>\n",
              "      <th>Utilib_14_taken_sum</th>\n",
              "      <th>Utilib_14_returned_sum</th>\n",
              "      <th>Slots_freed_sum</th>\n",
              "      <th>Slots_taken_sum</th>\n",
              "    </tr>\n",
              "  </thead>\n",
              "  <tbody>\n",
              "    <tr>\n",
              "      <th>0</th>\n",
              "      <td>75001</td>\n",
              "      <td>1/1/2018</td>\n",
              "      <td>1440</td>\n",
              "      <td>0</td>\n",
              "      <td>weekday</td>\n",
              "      <td>110</td>\n",
              "      <td>103</td>\n",
              "      <td>3</td>\n",
              "      <td>2</td>\n",
              "      <td>10</td>\n",
              "      <td>9</td>\n",
              "      <td>22</td>\n",
              "      <td>20</td>\n",
              "    </tr>\n",
              "    <tr>\n",
              "      <th>1</th>\n",
              "      <td>75001</td>\n",
              "      <td>1/2/2018</td>\n",
              "      <td>1438</td>\n",
              "      <td>1</td>\n",
              "      <td>weekday</td>\n",
              "      <td>98</td>\n",
              "      <td>94</td>\n",
              "      <td>1</td>\n",
              "      <td>1</td>\n",
              "      <td>8</td>\n",
              "      <td>8</td>\n",
              "      <td>23</td>\n",
              "      <td>22</td>\n",
              "    </tr>\n",
              "    <tr>\n",
              "      <th>2</th>\n",
              "      <td>75001</td>\n",
              "      <td>1/3/2018</td>\n",
              "      <td>1439</td>\n",
              "      <td>2</td>\n",
              "      <td>weekday</td>\n",
              "      <td>138</td>\n",
              "      <td>139</td>\n",
              "      <td>0</td>\n",
              "      <td>0</td>\n",
              "      <td>2</td>\n",
              "      <td>2</td>\n",
              "      <td>27</td>\n",
              "      <td>27</td>\n",
              "    </tr>\n",
              "    <tr>\n",
              "      <th>3</th>\n",
              "      <td>75001</td>\n",
              "      <td>1/4/2018</td>\n",
              "      <td>1320</td>\n",
              "      <td>3</td>\n",
              "      <td>weekday</td>\n",
              "      <td>104</td>\n",
              "      <td>104</td>\n",
              "      <td>2</td>\n",
              "      <td>2</td>\n",
              "      <td>9</td>\n",
              "      <td>8</td>\n",
              "      <td>25</td>\n",
              "      <td>21</td>\n",
              "    </tr>\n",
              "    <tr>\n",
              "      <th>4</th>\n",
              "      <td>75001</td>\n",
              "      <td>1/5/2018</td>\n",
              "      <td>1440</td>\n",
              "      <td>4</td>\n",
              "      <td>weekday</td>\n",
              "      <td>114</td>\n",
              "      <td>117</td>\n",
              "      <td>3</td>\n",
              "      <td>3</td>\n",
              "      <td>6</td>\n",
              "      <td>6</td>\n",
              "      <td>18</td>\n",
              "      <td>20</td>\n",
              "    </tr>\n",
              "  </tbody>\n",
              "</table>\n",
              "</div>"
            ],
            "text/plain": [
              "   Postal code      date  ...  Slots_freed_sum  Slots_taken_sum\n",
              "0        75001  1/1/2018  ...               22               20\n",
              "1        75001  1/2/2018  ...               23               22\n",
              "2        75001  1/3/2018  ...               27               27\n",
              "3        75001  1/4/2018  ...               25               21\n",
              "4        75001  1/5/2018  ...               18               20\n",
              "\n",
              "[5 rows x 13 columns]"
            ]
          },
          "metadata": {
            "tags": []
          },
          "execution_count": 61
        }
      ]
    },
    {
      "cell_type": "code",
      "metadata": {
        "colab": {
          "base_uri": "https://localhost:8080/",
          "height": 244
        },
        "id": "SI0iRiSI0ryR",
        "outputId": "8d4be0d9-8a6c-4c45-f1c0-bed5cdf91531"
      },
      "source": [
        "df.tail()\n"
      ],
      "execution_count": 62,
      "outputs": [
        {
          "output_type": "execute_result",
          "data": {
            "text/html": [
              "<div>\n",
              "<style scoped>\n",
              "    .dataframe tbody tr th:only-of-type {\n",
              "        vertical-align: middle;\n",
              "    }\n",
              "\n",
              "    .dataframe tbody tr th {\n",
              "        vertical-align: top;\n",
              "    }\n",
              "\n",
              "    .dataframe thead th {\n",
              "        text-align: right;\n",
              "    }\n",
              "</style>\n",
              "<table border=\"1\" class=\"dataframe\">\n",
              "  <thead>\n",
              "    <tr style=\"text-align: right;\">\n",
              "      <th></th>\n",
              "      <th>Postal code</th>\n",
              "      <th>date</th>\n",
              "      <th>n_daily_data_points</th>\n",
              "      <th>dayOfWeek</th>\n",
              "      <th>day_type</th>\n",
              "      <th>BlueCars_taken_sum</th>\n",
              "      <th>BlueCars_returned_sum</th>\n",
              "      <th>Utilib_taken_sum</th>\n",
              "      <th>Utilib_returned_sum</th>\n",
              "      <th>Utilib_14_taken_sum</th>\n",
              "      <th>Utilib_14_returned_sum</th>\n",
              "      <th>Slots_freed_sum</th>\n",
              "      <th>Slots_taken_sum</th>\n",
              "    </tr>\n",
              "  </thead>\n",
              "  <tbody>\n",
              "    <tr>\n",
              "      <th>16080</th>\n",
              "      <td>95880</td>\n",
              "      <td>6/15/2018</td>\n",
              "      <td>1440</td>\n",
              "      <td>4</td>\n",
              "      <td>weekday</td>\n",
              "      <td>15</td>\n",
              "      <td>10</td>\n",
              "      <td>0</td>\n",
              "      <td>0</td>\n",
              "      <td>2</td>\n",
              "      <td>3</td>\n",
              "      <td>0</td>\n",
              "      <td>0</td>\n",
              "    </tr>\n",
              "    <tr>\n",
              "      <th>16081</th>\n",
              "      <td>95880</td>\n",
              "      <td>6/16/2018</td>\n",
              "      <td>1440</td>\n",
              "      <td>5</td>\n",
              "      <td>weekend</td>\n",
              "      <td>19</td>\n",
              "      <td>19</td>\n",
              "      <td>0</td>\n",
              "      <td>0</td>\n",
              "      <td>2</td>\n",
              "      <td>1</td>\n",
              "      <td>0</td>\n",
              "      <td>0</td>\n",
              "    </tr>\n",
              "    <tr>\n",
              "      <th>16082</th>\n",
              "      <td>95880</td>\n",
              "      <td>6/17/2018</td>\n",
              "      <td>1440</td>\n",
              "      <td>6</td>\n",
              "      <td>weekend</td>\n",
              "      <td>33</td>\n",
              "      <td>35</td>\n",
              "      <td>1</td>\n",
              "      <td>1</td>\n",
              "      <td>0</td>\n",
              "      <td>0</td>\n",
              "      <td>0</td>\n",
              "      <td>0</td>\n",
              "    </tr>\n",
              "    <tr>\n",
              "      <th>16083</th>\n",
              "      <td>95880</td>\n",
              "      <td>6/18/2018</td>\n",
              "      <td>1440</td>\n",
              "      <td>0</td>\n",
              "      <td>weekday</td>\n",
              "      <td>11</td>\n",
              "      <td>14</td>\n",
              "      <td>3</td>\n",
              "      <td>5</td>\n",
              "      <td>2</td>\n",
              "      <td>2</td>\n",
              "      <td>0</td>\n",
              "      <td>0</td>\n",
              "    </tr>\n",
              "    <tr>\n",
              "      <th>16084</th>\n",
              "      <td>95880</td>\n",
              "      <td>6/19/2018</td>\n",
              "      <td>1370</td>\n",
              "      <td>1</td>\n",
              "      <td>weekday</td>\n",
              "      <td>2</td>\n",
              "      <td>2</td>\n",
              "      <td>2</td>\n",
              "      <td>1</td>\n",
              "      <td>0</td>\n",
              "      <td>0</td>\n",
              "      <td>0</td>\n",
              "      <td>0</td>\n",
              "    </tr>\n",
              "  </tbody>\n",
              "</table>\n",
              "</div>"
            ],
            "text/plain": [
              "       Postal code       date  ...  Slots_freed_sum  Slots_taken_sum\n",
              "16080        95880  6/15/2018  ...                0                0\n",
              "16081        95880  6/16/2018  ...                0                0\n",
              "16082        95880  6/17/2018  ...                0                0\n",
              "16083        95880  6/18/2018  ...                0                0\n",
              "16084        95880  6/19/2018  ...                0                0\n",
              "\n",
              "[5 rows x 13 columns]"
            ]
          },
          "metadata": {
            "tags": []
          },
          "execution_count": 62
        }
      ]
    },
    {
      "cell_type": "markdown",
      "metadata": {
        "id": "CwhH-62701AM"
      },
      "source": [
        "Checking rhe data information"
      ]
    },
    {
      "cell_type": "code",
      "metadata": {
        "colab": {
          "base_uri": "https://localhost:8080/"
        },
        "id": "ckDHTnnA0sEF",
        "outputId": "4f7a23ca-4886-4f22-eae9-7f66edf832b5"
      },
      "source": [
        "# checking datatypes\n",
        "df.info()"
      ],
      "execution_count": 63,
      "outputs": [
        {
          "output_type": "stream",
          "text": [
            "<class 'pandas.core.frame.DataFrame'>\n",
            "RangeIndex: 16085 entries, 0 to 16084\n",
            "Data columns (total 13 columns):\n",
            " #   Column                  Non-Null Count  Dtype \n",
            "---  ------                  --------------  ----- \n",
            " 0   Postal code             16085 non-null  int64 \n",
            " 1   date                    16085 non-null  object\n",
            " 2   n_daily_data_points     16085 non-null  int64 \n",
            " 3   dayOfWeek               16085 non-null  int64 \n",
            " 4   day_type                16085 non-null  object\n",
            " 5   BlueCars_taken_sum      16085 non-null  int64 \n",
            " 6   BlueCars_returned_sum   16085 non-null  int64 \n",
            " 7   Utilib_taken_sum        16085 non-null  int64 \n",
            " 8   Utilib_returned_sum     16085 non-null  int64 \n",
            " 9   Utilib_14_taken_sum     16085 non-null  int64 \n",
            " 10  Utilib_14_returned_sum  16085 non-null  int64 \n",
            " 11  Slots_freed_sum         16085 non-null  int64 \n",
            " 12  Slots_taken_sum         16085 non-null  int64 \n",
            "dtypes: int64(11), object(2)\n",
            "memory usage: 1.6+ MB\n"
          ],
          "name": "stdout"
        }
      ]
    },
    {
      "cell_type": "code",
      "metadata": {
        "colab": {
          "base_uri": "https://localhost:8080/"
        },
        "id": "ppHIUSPq0sL7",
        "outputId": "0de226b5-412a-461b-fb84-bfe73cfee215"
      },
      "source": [
        "df.columns\n",
        "\n"
      ],
      "execution_count": 64,
      "outputs": [
        {
          "output_type": "execute_result",
          "data": {
            "text/plain": [
              "Index(['Postal code', 'date', 'n_daily_data_points', 'dayOfWeek', 'day_type',\n",
              "       'BlueCars_taken_sum', 'BlueCars_returned_sum', 'Utilib_taken_sum',\n",
              "       'Utilib_returned_sum', 'Utilib_14_taken_sum', 'Utilib_14_returned_sum',\n",
              "       'Slots_freed_sum', 'Slots_taken_sum'],\n",
              "      dtype='object')"
            ]
          },
          "metadata": {
            "tags": []
          },
          "execution_count": 64
        }
      ]
    },
    {
      "cell_type": "code",
      "metadata": {
        "colab": {
          "base_uri": "https://localhost:8080/"
        },
        "id": "3xI2BpXK0_wo",
        "outputId": "479e4a76-4497-46da-cb76-c54af2711244"
      },
      "source": [
        "# quantiles\n",
        "Q1 = df.quantile(0.25)\n",
        "Q3 = df.quantile(0.75)\n",
        "IQR = Q3 - Q1\n",
        "# Removing outliers based on the IQR range and stores the result in the data frame 'df_out'\n",
        "df1 = df[~((df < (Q1 - 1.5 * IQR)) | (df > (Q3 + 1.5 * IQR))).any(axis=1)]\n",
        "# Printing the shape of our new dataset\n",
        "print(df1.shape)\n",
        "# Printing the shape of our old dataset\n",
        "print(df.shape)"
      ],
      "execution_count": 65,
      "outputs": [
        {
          "output_type": "stream",
          "text": [
            "(9783, 13)\n",
            "(16085, 13)\n"
          ],
          "name": "stdout"
        }
      ]
    },
    {
      "cell_type": "code",
      "metadata": {
        "colab": {
          "base_uri": "https://localhost:8080/"
        },
        "id": "EVFUnKhG0_5-",
        "outputId": "8b98ee61-d69a-47d4-e439-9148ca685959"
      },
      "source": [
        "# determining the number of records in the dataset\n",
        "df.shape"
      ],
      "execution_count": 66,
      "outputs": [
        {
          "output_type": "execute_result",
          "data": {
            "text/plain": [
              "(16085, 13)"
            ]
          },
          "metadata": {
            "tags": []
          },
          "execution_count": 66
        }
      ]
    },
    {
      "cell_type": "code",
      "metadata": {
        "colab": {
          "base_uri": "https://localhost:8080/"
        },
        "id": "jb2i90qg0__h",
        "outputId": "d0be5ce1-b9d0-4d35-89c4-b4da8976e70d"
      },
      "source": [
        "# checking for duplicates\n",
        "df1.duplicated().any()"
      ],
      "execution_count": 67,
      "outputs": [
        {
          "output_type": "execute_result",
          "data": {
            "text/plain": [
              "False"
            ]
          },
          "metadata": {
            "tags": []
          },
          "execution_count": 67
        }
      ]
    },
    {
      "cell_type": "code",
      "metadata": {
        "colab": {
          "base_uri": "https://localhost:8080/"
        },
        "id": "RZlw1n7d1aZw",
        "outputId": "1f257be4-02c3-4184-80a3-fb41b0649a25"
      },
      "source": [
        "# checking for missing values\n",
        "df1.isnull().any()"
      ],
      "execution_count": 68,
      "outputs": [
        {
          "output_type": "execute_result",
          "data": {
            "text/plain": [
              "Postal code               False\n",
              "date                      False\n",
              "n_daily_data_points       False\n",
              "dayOfWeek                 False\n",
              "day_type                  False\n",
              "BlueCars_taken_sum        False\n",
              "BlueCars_returned_sum     False\n",
              "Utilib_taken_sum          False\n",
              "Utilib_returned_sum       False\n",
              "Utilib_14_taken_sum       False\n",
              "Utilib_14_returned_sum    False\n",
              "Slots_freed_sum           False\n",
              "Slots_taken_sum           False\n",
              "dtype: bool"
            ]
          },
          "metadata": {
            "tags": []
          },
          "execution_count": 68
        }
      ]
    },
    {
      "cell_type": "code",
      "metadata": {
        "colab": {
          "base_uri": "https://localhost:8080/"
        },
        "id": "wMfN3U2A1cL1",
        "outputId": "ff96f6c4-6f21-41d5-a651-1574670d7d71"
      },
      "source": [
        "df1.isnull().sum().sort_values(ascending=False)"
      ],
      "execution_count": 69,
      "outputs": [
        {
          "output_type": "execute_result",
          "data": {
            "text/plain": [
              "Slots_taken_sum           0\n",
              "Slots_freed_sum           0\n",
              "Utilib_14_returned_sum    0\n",
              "Utilib_14_taken_sum       0\n",
              "Utilib_returned_sum       0\n",
              "Utilib_taken_sum          0\n",
              "BlueCars_returned_sum     0\n",
              "BlueCars_taken_sum        0\n",
              "day_type                  0\n",
              "dayOfWeek                 0\n",
              "n_daily_data_points       0\n",
              "date                      0\n",
              "Postal code               0\n",
              "dtype: int64"
            ]
          },
          "metadata": {
            "tags": []
          },
          "execution_count": 69
        }
      ]
    },
    {
      "cell_type": "code",
      "metadata": {
        "colab": {
          "base_uri": "https://localhost:8080/"
        },
        "id": "iqzdV8mI1hqX",
        "outputId": "57ce6aca-7518-478c-aa00-983636c03946"
      },
      "source": [
        "#checking for unique values\n",
        "df1.nunique()\n"
      ],
      "execution_count": 70,
      "outputs": [
        {
          "output_type": "execute_result",
          "data": {
            "text/plain": [
              "Postal code                79\n",
              "date                      130\n",
              "n_daily_data_points         3\n",
              "dayOfWeek                   7\n",
              "day_type                    2\n",
              "BlueCars_taken_sum        275\n",
              "BlueCars_returned_sum     269\n",
              "Utilib_taken_sum           11\n",
              "Utilib_returned_sum        11\n",
              "Utilib_14_taken_sum        24\n",
              "Utilib_14_returned_sum     24\n",
              "Slots_freed_sum            13\n",
              "Slots_taken_sum            13\n",
              "dtype: int64"
            ]
          },
          "metadata": {
            "tags": []
          },
          "execution_count": 70
        }
      ]
    },
    {
      "cell_type": "markdown",
      "metadata": {
        "id": "65pzqF6a1oaZ"
      },
      "source": [
        "EXPLORATORY ANALYSIS"
      ]
    },
    {
      "cell_type": "code",
      "metadata": {
        "id": "w9YD4nT91sE4"
      },
      "source": [
        "# Rename columns\n",
        "col_names = df1.columns.tolist()\n",
        "for col in range(len(col_names)):\n",
        "  col_names[col] = col_names[col].lower().replace(\" \", \"_\")\n",
        "\n",
        "df1.columns = col_names"
      ],
      "execution_count": 71,
      "outputs": []
    },
    {
      "cell_type": "code",
      "metadata": {
        "colab": {
          "base_uri": "https://localhost:8080/"
        },
        "id": "pHswamoD1wnl",
        "outputId": "3dc52cb2-a33d-427b-b12f-20daebaf8478"
      },
      "source": [
        "df1.columns"
      ],
      "execution_count": 72,
      "outputs": [
        {
          "output_type": "execute_result",
          "data": {
            "text/plain": [
              "Index(['postal_code', 'date', 'n_daily_data_points', 'dayofweek', 'day_type',\n",
              "       'bluecars_taken_sum', 'bluecars_returned_sum', 'utilib_taken_sum',\n",
              "       'utilib_returned_sum', 'utilib_14_taken_sum', 'utilib_14_returned_sum',\n",
              "       'slots_freed_sum', 'slots_taken_sum'],\n",
              "      dtype='object')"
            ]
          },
          "metadata": {
            "tags": []
          },
          "execution_count": 72
        }
      ]
    },
    {
      "cell_type": "code",
      "metadata": {
        "colab": {
          "base_uri": "https://localhost:8080/"
        },
        "id": "aR-hRmX71zqC",
        "outputId": "5d8b3c2b-2844-447e-f5ab-1bcd6ec04ff3"
      },
      "source": [
        "df1.shape"
      ],
      "execution_count": 73,
      "outputs": [
        {
          "output_type": "execute_result",
          "data": {
            "text/plain": [
              "(9783, 13)"
            ]
          },
          "metadata": {
            "tags": []
          },
          "execution_count": 73
        }
      ]
    },
    {
      "cell_type": "code",
      "metadata": {
        "colab": {
          "base_uri": "https://localhost:8080/",
          "height": 572
        },
        "id": "2CL-xJRA125W",
        "outputId": "745e767b-4458-4fe4-ad13-124e960306ea"
      },
      "source": [
        "#dropping some of the columns that are not helpful in our data set\n",
        "df1.drop(['date', 'n_daily_data_points', 'utilib_taken_sum', 'utilib_returned_sum', 'utilib_14_taken_sum', 'utilib_14_returned_sum', 'slots_freed_sum', 'slots_taken_sum'], axis=1, inplace=True)\n",
        "df1"
      ],
      "execution_count": 74,
      "outputs": [
        {
          "output_type": "stream",
          "text": [
            "/usr/local/lib/python3.7/dist-packages/pandas/core/frame.py:4174: SettingWithCopyWarning:\n",
            "\n",
            "\n",
            "A value is trying to be set on a copy of a slice from a DataFrame\n",
            "\n",
            "See the caveats in the documentation: https://pandas.pydata.org/pandas-docs/stable/user_guide/indexing.html#returning-a-view-versus-a-copy\n",
            "\n"
          ],
          "name": "stderr"
        },
        {
          "output_type": "execute_result",
          "data": {
            "text/html": [
              "<div>\n",
              "<style scoped>\n",
              "    .dataframe tbody tr th:only-of-type {\n",
              "        vertical-align: middle;\n",
              "    }\n",
              "\n",
              "    .dataframe tbody tr th {\n",
              "        vertical-align: top;\n",
              "    }\n",
              "\n",
              "    .dataframe thead th {\n",
              "        text-align: right;\n",
              "    }\n",
              "</style>\n",
              "<table border=\"1\" class=\"dataframe\">\n",
              "  <thead>\n",
              "    <tr style=\"text-align: right;\">\n",
              "      <th></th>\n",
              "      <th>postal_code</th>\n",
              "      <th>dayofweek</th>\n",
              "      <th>day_type</th>\n",
              "      <th>bluecars_taken_sum</th>\n",
              "      <th>bluecars_returned_sum</th>\n",
              "    </tr>\n",
              "  </thead>\n",
              "  <tbody>\n",
              "    <tr>\n",
              "      <th>3899</th>\n",
              "      <td>91330</td>\n",
              "      <td>0</td>\n",
              "      <td>weekday</td>\n",
              "      <td>19</td>\n",
              "      <td>9</td>\n",
              "    </tr>\n",
              "    <tr>\n",
              "      <th>3900</th>\n",
              "      <td>91330</td>\n",
              "      <td>1</td>\n",
              "      <td>weekday</td>\n",
              "      <td>10</td>\n",
              "      <td>10</td>\n",
              "    </tr>\n",
              "    <tr>\n",
              "      <th>3901</th>\n",
              "      <td>91330</td>\n",
              "      <td>2</td>\n",
              "      <td>weekday</td>\n",
              "      <td>11</td>\n",
              "      <td>13</td>\n",
              "    </tr>\n",
              "    <tr>\n",
              "      <th>3903</th>\n",
              "      <td>91330</td>\n",
              "      <td>4</td>\n",
              "      <td>weekday</td>\n",
              "      <td>10</td>\n",
              "      <td>6</td>\n",
              "    </tr>\n",
              "    <tr>\n",
              "      <th>3905</th>\n",
              "      <td>91330</td>\n",
              "      <td>6</td>\n",
              "      <td>weekend</td>\n",
              "      <td>28</td>\n",
              "      <td>17</td>\n",
              "    </tr>\n",
              "    <tr>\n",
              "      <th>...</th>\n",
              "      <td>...</td>\n",
              "      <td>...</td>\n",
              "      <td>...</td>\n",
              "      <td>...</td>\n",
              "      <td>...</td>\n",
              "    </tr>\n",
              "    <tr>\n",
              "      <th>16079</th>\n",
              "      <td>95880</td>\n",
              "      <td>3</td>\n",
              "      <td>weekday</td>\n",
              "      <td>15</td>\n",
              "      <td>13</td>\n",
              "    </tr>\n",
              "    <tr>\n",
              "      <th>16080</th>\n",
              "      <td>95880</td>\n",
              "      <td>4</td>\n",
              "      <td>weekday</td>\n",
              "      <td>15</td>\n",
              "      <td>10</td>\n",
              "    </tr>\n",
              "    <tr>\n",
              "      <th>16081</th>\n",
              "      <td>95880</td>\n",
              "      <td>5</td>\n",
              "      <td>weekend</td>\n",
              "      <td>19</td>\n",
              "      <td>19</td>\n",
              "    </tr>\n",
              "    <tr>\n",
              "      <th>16082</th>\n",
              "      <td>95880</td>\n",
              "      <td>6</td>\n",
              "      <td>weekend</td>\n",
              "      <td>33</td>\n",
              "      <td>35</td>\n",
              "    </tr>\n",
              "    <tr>\n",
              "      <th>16083</th>\n",
              "      <td>95880</td>\n",
              "      <td>0</td>\n",
              "      <td>weekday</td>\n",
              "      <td>11</td>\n",
              "      <td>14</td>\n",
              "    </tr>\n",
              "  </tbody>\n",
              "</table>\n",
              "<p>9783 rows × 5 columns</p>\n",
              "</div>"
            ],
            "text/plain": [
              "       postal_code  dayofweek  ... bluecars_taken_sum  bluecars_returned_sum\n",
              "3899         91330          0  ...                 19                      9\n",
              "3900         91330          1  ...                 10                     10\n",
              "3901         91330          2  ...                 11                     13\n",
              "3903         91330          4  ...                 10                      6\n",
              "3905         91330          6  ...                 28                     17\n",
              "...            ...        ...  ...                ...                    ...\n",
              "16079        95880          3  ...                 15                     13\n",
              "16080        95880          4  ...                 15                     10\n",
              "16081        95880          5  ...                 19                     19\n",
              "16082        95880          6  ...                 33                     35\n",
              "16083        95880          0  ...                 11                     14\n",
              "\n",
              "[9783 rows x 5 columns]"
            ]
          },
          "metadata": {
            "tags": []
          },
          "execution_count": 74
        }
      ]
    },
    {
      "cell_type": "code",
      "metadata": {
        "colab": {
          "base_uri": "https://localhost:8080/",
          "height": 206
        },
        "id": "hovKW3lJ2ArB",
        "outputId": "da18853c-2b6a-4069-8a61-168477cf3ff5"
      },
      "source": [
        "df1.head(5)"
      ],
      "execution_count": 75,
      "outputs": [
        {
          "output_type": "execute_result",
          "data": {
            "text/html": [
              "<div>\n",
              "<style scoped>\n",
              "    .dataframe tbody tr th:only-of-type {\n",
              "        vertical-align: middle;\n",
              "    }\n",
              "\n",
              "    .dataframe tbody tr th {\n",
              "        vertical-align: top;\n",
              "    }\n",
              "\n",
              "    .dataframe thead th {\n",
              "        text-align: right;\n",
              "    }\n",
              "</style>\n",
              "<table border=\"1\" class=\"dataframe\">\n",
              "  <thead>\n",
              "    <tr style=\"text-align: right;\">\n",
              "      <th></th>\n",
              "      <th>postal_code</th>\n",
              "      <th>dayofweek</th>\n",
              "      <th>day_type</th>\n",
              "      <th>bluecars_taken_sum</th>\n",
              "      <th>bluecars_returned_sum</th>\n",
              "    </tr>\n",
              "  </thead>\n",
              "  <tbody>\n",
              "    <tr>\n",
              "      <th>3899</th>\n",
              "      <td>91330</td>\n",
              "      <td>0</td>\n",
              "      <td>weekday</td>\n",
              "      <td>19</td>\n",
              "      <td>9</td>\n",
              "    </tr>\n",
              "    <tr>\n",
              "      <th>3900</th>\n",
              "      <td>91330</td>\n",
              "      <td>1</td>\n",
              "      <td>weekday</td>\n",
              "      <td>10</td>\n",
              "      <td>10</td>\n",
              "    </tr>\n",
              "    <tr>\n",
              "      <th>3901</th>\n",
              "      <td>91330</td>\n",
              "      <td>2</td>\n",
              "      <td>weekday</td>\n",
              "      <td>11</td>\n",
              "      <td>13</td>\n",
              "    </tr>\n",
              "    <tr>\n",
              "      <th>3903</th>\n",
              "      <td>91330</td>\n",
              "      <td>4</td>\n",
              "      <td>weekday</td>\n",
              "      <td>10</td>\n",
              "      <td>6</td>\n",
              "    </tr>\n",
              "    <tr>\n",
              "      <th>3905</th>\n",
              "      <td>91330</td>\n",
              "      <td>6</td>\n",
              "      <td>weekend</td>\n",
              "      <td>28</td>\n",
              "      <td>17</td>\n",
              "    </tr>\n",
              "  </tbody>\n",
              "</table>\n",
              "</div>"
            ],
            "text/plain": [
              "      postal_code  dayofweek  ... bluecars_taken_sum  bluecars_returned_sum\n",
              "3899        91330          0  ...                 19                      9\n",
              "3900        91330          1  ...                 10                     10\n",
              "3901        91330          2  ...                 11                     13\n",
              "3903        91330          4  ...                 10                      6\n",
              "3905        91330          6  ...                 28                     17\n",
              "\n",
              "[5 rows x 5 columns]"
            ]
          },
          "metadata": {
            "tags": []
          },
          "execution_count": 75
        }
      ]
    },
    {
      "cell_type": "code",
      "metadata": {
        "id": "NhfaMiUt2MKM"
      },
      "source": [
        "# Extract day type data\n",
        "df2 = df1[df1.day_type == 'weekend']"
      ],
      "execution_count": 76,
      "outputs": []
    },
    {
      "cell_type": "code",
      "metadata": {
        "colab": {
          "base_uri": "https://localhost:8080/",
          "height": 206
        },
        "id": "nmsC6fNa2N6u",
        "outputId": "dc315e38-69dc-4d0b-b939-29dcfccbc96a"
      },
      "source": [
        "df2.head(5)"
      ],
      "execution_count": 77,
      "outputs": [
        {
          "output_type": "execute_result",
          "data": {
            "text/html": [
              "<div>\n",
              "<style scoped>\n",
              "    .dataframe tbody tr th:only-of-type {\n",
              "        vertical-align: middle;\n",
              "    }\n",
              "\n",
              "    .dataframe tbody tr th {\n",
              "        vertical-align: top;\n",
              "    }\n",
              "\n",
              "    .dataframe thead th {\n",
              "        text-align: right;\n",
              "    }\n",
              "</style>\n",
              "<table border=\"1\" class=\"dataframe\">\n",
              "  <thead>\n",
              "    <tr style=\"text-align: right;\">\n",
              "      <th></th>\n",
              "      <th>postal_code</th>\n",
              "      <th>dayofweek</th>\n",
              "      <th>day_type</th>\n",
              "      <th>bluecars_taken_sum</th>\n",
              "      <th>bluecars_returned_sum</th>\n",
              "    </tr>\n",
              "  </thead>\n",
              "  <tbody>\n",
              "    <tr>\n",
              "      <th>3905</th>\n",
              "      <td>91330</td>\n",
              "      <td>6</td>\n",
              "      <td>weekend</td>\n",
              "      <td>28</td>\n",
              "      <td>17</td>\n",
              "    </tr>\n",
              "    <tr>\n",
              "      <th>3911</th>\n",
              "      <td>91330</td>\n",
              "      <td>5</td>\n",
              "      <td>weekend</td>\n",
              "      <td>24</td>\n",
              "      <td>21</td>\n",
              "    </tr>\n",
              "    <tr>\n",
              "      <th>3912</th>\n",
              "      <td>91330</td>\n",
              "      <td>6</td>\n",
              "      <td>weekend</td>\n",
              "      <td>27</td>\n",
              "      <td>30</td>\n",
              "    </tr>\n",
              "    <tr>\n",
              "      <th>3918</th>\n",
              "      <td>91330</td>\n",
              "      <td>5</td>\n",
              "      <td>weekend</td>\n",
              "      <td>16</td>\n",
              "      <td>10</td>\n",
              "    </tr>\n",
              "    <tr>\n",
              "      <th>3919</th>\n",
              "      <td>91330</td>\n",
              "      <td>6</td>\n",
              "      <td>weekend</td>\n",
              "      <td>18</td>\n",
              "      <td>14</td>\n",
              "    </tr>\n",
              "  </tbody>\n",
              "</table>\n",
              "</div>"
            ],
            "text/plain": [
              "      postal_code  dayofweek  ... bluecars_taken_sum  bluecars_returned_sum\n",
              "3905        91330          6  ...                 28                     17\n",
              "3911        91330          5  ...                 24                     21\n",
              "3912        91330          6  ...                 27                     30\n",
              "3918        91330          5  ...                 16                     10\n",
              "3919        91330          6  ...                 18                     14\n",
              "\n",
              "[5 rows x 5 columns]"
            ]
          },
          "metadata": {
            "tags": []
          },
          "execution_count": 77
        }
      ]
    },
    {
      "cell_type": "code",
      "metadata": {
        "colab": {
          "base_uri": "https://localhost:8080/"
        },
        "id": "JVcESNNg2VJg",
        "outputId": "3b9e32ac-15ea-4e01-f3d1-a1314c3c5fb1"
      },
      "source": [
        "df2.shape"
      ],
      "execution_count": 78,
      "outputs": [
        {
          "output_type": "execute_result",
          "data": {
            "text/plain": [
              "(2963, 5)"
            ]
          },
          "metadata": {
            "tags": []
          },
          "execution_count": 78
        }
      ]
    },
    {
      "cell_type": "markdown",
      "metadata": {
        "id": "4awIS5CB2Y03"
      },
      "source": [
        "UNIVARIATE ANALYSIS"
      ]
    },
    {
      "cell_type": "code",
      "metadata": {
        "colab": {
          "base_uri": "https://localhost:8080/"
        },
        "id": "HBiDe0KC2chB",
        "outputId": "d0e8a4b4-46c0-4eab-cf71-1570bb2cfa72"
      },
      "source": [
        "# get proprotion of day of week\n",
        "df2['dayofweek'].value_counts(normalize=True)*100"
      ],
      "execution_count": 79,
      "outputs": [
        {
          "output_type": "execute_result",
          "data": {
            "text/plain": [
              "6    52.78434\n",
              "5    47.21566\n",
              "Name: dayofweek, dtype: float64"
            ]
          },
          "metadata": {
            "tags": []
          },
          "execution_count": 79
        }
      ]
    },
    {
      "cell_type": "markdown",
      "metadata": {
        "id": "PY-5ags32hE8"
      },
      "source": [
        "From the dataset, the days of the week are coded as 5 being saturday and 6 being sunday"
      ]
    },
    {
      "cell_type": "code",
      "metadata": {
        "colab": {
          "base_uri": "https://localhost:8080/",
          "height": 300
        },
        "id": "GhxDuHWR2sNE",
        "outputId": "9f876116-01b8-4b0f-a302-a880812c4f14"
      },
      "source": [
        "# Describe numerical variables\n",
        "df2[['bluecars_taken_sum','bluecars_returned_sum']].describe()"
      ],
      "execution_count": 80,
      "outputs": [
        {
          "output_type": "execute_result",
          "data": {
            "text/html": [
              "<div>\n",
              "<style scoped>\n",
              "    .dataframe tbody tr th:only-of-type {\n",
              "        vertical-align: middle;\n",
              "    }\n",
              "\n",
              "    .dataframe tbody tr th {\n",
              "        vertical-align: top;\n",
              "    }\n",
              "\n",
              "    .dataframe thead th {\n",
              "        text-align: right;\n",
              "    }\n",
              "</style>\n",
              "<table border=\"1\" class=\"dataframe\">\n",
              "  <thead>\n",
              "    <tr style=\"text-align: right;\">\n",
              "      <th></th>\n",
              "      <th>bluecars_taken_sum</th>\n",
              "      <th>bluecars_returned_sum</th>\n",
              "    </tr>\n",
              "  </thead>\n",
              "  <tbody>\n",
              "    <tr>\n",
              "      <th>count</th>\n",
              "      <td>2963.000000</td>\n",
              "      <td>2963.000000</td>\n",
              "    </tr>\n",
              "    <tr>\n",
              "      <th>mean</th>\n",
              "      <td>57.718529</td>\n",
              "      <td>57.354708</td>\n",
              "    </tr>\n",
              "    <tr>\n",
              "      <th>std</th>\n",
              "      <td>48.991550</td>\n",
              "      <td>49.600634</td>\n",
              "    </tr>\n",
              "    <tr>\n",
              "      <th>min</th>\n",
              "      <td>0.000000</td>\n",
              "      <td>0.000000</td>\n",
              "    </tr>\n",
              "    <tr>\n",
              "      <th>25%</th>\n",
              "      <td>21.000000</td>\n",
              "      <td>20.000000</td>\n",
              "    </tr>\n",
              "    <tr>\n",
              "      <th>50%</th>\n",
              "      <td>43.000000</td>\n",
              "      <td>42.000000</td>\n",
              "    </tr>\n",
              "    <tr>\n",
              "      <th>75%</th>\n",
              "      <td>82.000000</td>\n",
              "      <td>82.000000</td>\n",
              "    </tr>\n",
              "    <tr>\n",
              "      <th>max</th>\n",
              "      <td>293.000000</td>\n",
              "      <td>301.000000</td>\n",
              "    </tr>\n",
              "  </tbody>\n",
              "</table>\n",
              "</div>"
            ],
            "text/plain": [
              "       bluecars_taken_sum  bluecars_returned_sum\n",
              "count         2963.000000            2963.000000\n",
              "mean            57.718529              57.354708\n",
              "std             48.991550              49.600634\n",
              "min              0.000000               0.000000\n",
              "25%             21.000000              20.000000\n",
              "50%             43.000000              42.000000\n",
              "75%             82.000000              82.000000\n",
              "max            293.000000             301.000000"
            ]
          },
          "metadata": {
            "tags": []
          },
          "execution_count": 80
        }
      ]
    },
    {
      "cell_type": "code",
      "metadata": {
        "colab": {
          "base_uri": "https://localhost:8080/",
          "height": 413
        },
        "id": "l00QqPZg2wJb",
        "outputId": "4cedda6b-4164-4374-a749-193a6623b833"
      },
      "source": [
        "# Plot bluecars taken\n",
        "sns.distplot(df2['bluecars_taken_sum'], bins=10)\n",
        "plt.title('distribution of blue cars taken')"
      ],
      "execution_count": 81,
      "outputs": [
        {
          "output_type": "stream",
          "text": [
            "/usr/local/lib/python3.7/dist-packages/seaborn/distributions.py:2557: FutureWarning:\n",
            "\n",
            "`distplot` is a deprecated function and will be removed in a future version. Please adapt your code to use either `displot` (a figure-level function with similar flexibility) or `histplot` (an axes-level function for histograms).\n",
            "\n"
          ],
          "name": "stderr"
        },
        {
          "output_type": "execute_result",
          "data": {
            "text/plain": [
              "Text(0.5, 1.0, 'distribution of blue cars taken')"
            ]
          },
          "metadata": {
            "tags": []
          },
          "execution_count": 81
        },
        {
          "output_type": "display_data",
          "data": {
            "image/png": "[encoded data removed]",
            "text/plain": [
              "<Figure size 432x288 with 1 Axes>"
            ]
          },
          "metadata": {
            "tags": [],
            "needs_background": "light"
          }
        }
      ]
    },
    {
      "cell_type": "code",
      "metadata": {
        "colab": {
          "base_uri": "https://localhost:8080/",
          "height": 413
        },
        "id": "-3xSqbkg20cr",
        "outputId": "1b50e9f8-a271-4e3d-b794-669b1e51b891"
      },
      "source": [
        "# Plot bluecars returned \n",
        "sns.distplot(df2['bluecars_returned_sum'], bins=10)\n",
        "plt.title('distribution of blue cars returned')"
      ],
      "execution_count": 82,
      "outputs": [
        {
          "output_type": "stream",
          "text": [
            "/usr/local/lib/python3.7/dist-packages/seaborn/distributions.py:2557: FutureWarning:\n",
            "\n",
            "`distplot` is a deprecated function and will be removed in a future version. Please adapt your code to use either `displot` (a figure-level function with similar flexibility) or `histplot` (an axes-level function for histograms).\n",
            "\n"
          ],
          "name": "stderr"
        },
        {
          "output_type": "execute_result",
          "data": {
            "text/plain": [
              "Text(0.5, 1.0, 'distribution of blue cars returned')"
            ]
          },
          "metadata": {
            "tags": []
          },
          "execution_count": 82
        },
        {
          "output_type": "display_data",
          "data": {
            "image/png": "[encoded data removed]",
            "text/plain": [
              "<Figure size 432x288 with 1 Axes>"
            ]
          },
          "metadata": {
            "tags": [],
            "needs_background": "light"
          }
        }
      ]
    },
    {
      "cell_type": "code",
      "metadata": {
        "colab": {
          "base_uri": "https://localhost:8080/",
          "height": 290
        },
        "id": "qSkYLm1X23x7",
        "outputId": "77a63857-cc11-4ede-821a-979e36f19b5c"
      },
      "source": [
        "df2['bluecars_returned_sum'].value_counts().head().plot.bar()"
      ],
      "execution_count": 83,
      "outputs": [
        {
          "output_type": "execute_result",
          "data": {
            "text/plain": [
              "<matplotlib.axes._subplots.AxesSubplot at 0x7f62c5b2bb10>"
            ]
          },
          "metadata": {
            "tags": []
          },
          "execution_count": 83
        },
        {
          "output_type": "display_data",
          "data": {
            "image/png": "[encoded data removed]",
            "text/plain": [
              "<Figure size 432x288 with 1 Axes>"
            ]
          },
          "metadata": {
            "tags": [],
            "needs_background": "light"
          }
        }
      ]
    },
    {
      "cell_type": "code",
      "metadata": {
        "colab": {
          "base_uri": "https://localhost:8080/",
          "height": 290
        },
        "id": "bSPBdB1k29ZG",
        "outputId": "fa4609e8-4bc7-4e8d-e7f1-6d17a12f0a13"
      },
      "source": [
        "\n",
        "\n",
        "df2['bluecars_taken_sum'].value_counts().head().plot.bar()\n",
        "\n"
      ],
      "execution_count": 84,
      "outputs": [
        {
          "output_type": "execute_result",
          "data": {
            "text/plain": [
              "<matplotlib.axes._subplots.AxesSubplot at 0x7f62c5a96dd0>"
            ]
          },
          "metadata": {
            "tags": []
          },
          "execution_count": 84
        },
        {
          "output_type": "display_data",
          "data": {
            "image/png": "[encoded data removed]",
            "text/plain": [
              "<Figure size 432x288 with 1 Axes>"
            ]
          },
          "metadata": {
            "tags": [],
            "needs_background": "light"
          }
        }
      ]
    },
    {
      "cell_type": "code",
      "metadata": {
        "colab": {
          "base_uri": "https://localhost:8080/",
          "height": 297
        },
        "id": "XXPPT8qU3BGc",
        "outputId": "b9151ab1-5061-4795-d12f-e2f445c47dd4"
      },
      "source": [
        "df2['bluecars_taken_sum'].value_counts().sort_index().plot.bar()"
      ],
      "execution_count": 85,
      "outputs": [
        {
          "output_type": "execute_result",
          "data": {
            "text/plain": [
              "<matplotlib.axes._subplots.AxesSubplot at 0x7f62c5ac8cd0>"
            ]
          },
          "metadata": {
            "tags": []
          },
          "execution_count": 85
        },
        {
          "output_type": "display_data",
          "data": {
            "image/png": "[encoded data removed]",
            "text/plain": [
              "<Figure size 432x288 with 1 Axes>"
            ]
          },
          "metadata": {
            "tags": [],
            "needs_background": "light"
          }
        }
      ]
    },
    {
      "cell_type": "markdown",
      "metadata": {
        "id": "cQPqPShI3J5H"
      },
      "source": [
        "BIVARIATE ANALYSIS"
      ]
    },
    {
      "cell_type": "code",
      "metadata": {
        "colab": {
          "base_uri": "https://localhost:8080/",
          "height": 726
        },
        "id": "-fnObkOx3FkF",
        "outputId": "f49c3cbf-e747-4b6d-9e91-6a8a8bc2a3f5"
      },
      "source": [
        "# Ploting the bivariate summaries and recording our observations\n",
        "# scatterplot\n",
        "sns.pairplot(df2)\n",
        "plt.show()"
      ],
      "execution_count": 86,
      "outputs": [
        {
          "output_type": "display_data",
          "data": {
            "image/png": "[encoded data removed]",
            "text/plain": [
              "<Figure size 720x720 with 20 Axes>"
            ]
          },
          "metadata": {
            "tags": [],
            "needs_background": "light"
          }
        }
      ]
    },
    {
      "cell_type": "code",
      "metadata": {
        "colab": {
          "base_uri": "https://localhost:8080/",
          "height": 410
        },
        "id": "0cpJ13vM3Fn8",
        "outputId": "ab37b7cc-e6c8-4aef-f1c3-c9a5725dbe45"
      },
      "source": [
        "# Determine correlation between numeric features\n",
        "plt.figure(figsize=(12,10))\n",
        "sns.pairplot(df2[['bluecars_taken_sum','bluecars_returned_sum']])\n",
        "plt.title('bluecars_taken vs bluecars_returned_sum')"
      ],
      "execution_count": 87,
      "outputs": [
        {
          "output_type": "execute_result",
          "data": {
            "text/plain": [
              "Text(0.5, 1.0, 'bluecars_taken vs bluecars_returned_sum')"
            ]
          },
          "metadata": {
            "tags": []
          },
          "execution_count": 87
        },
        {
          "output_type": "display_data",
          "data": {
            "text/plain": [
              "<Figure size 864x720 with 0 Axes>"
            ]
          },
          "metadata": {
            "tags": []
          }
        },
        {
          "output_type": "display_data",
          "data": {
            "image/png": "[encoded data removed]",
            "text/plain": [
              "<Figure size 360x360 with 6 Axes>"
            ]
          },
          "metadata": {
            "tags": [],
            "needs_background": "light"
          }
        }
      ]
    },
    {
      "cell_type": "code",
      "metadata": {
        "colab": {
          "base_uri": "https://localhost:8080/"
        },
        "id": "HQCmnj8k3Frt",
        "outputId": "d43b1579-9957-445c-a1a3-f4dcd402aa51"
      },
      "source": [
        "df2['bluecars_taken_sum'].corr(df2['bluecars_returned_sum'])"
      ],
      "execution_count": 88,
      "outputs": [
        {
          "output_type": "execute_result",
          "data": {
            "text/plain": [
              "0.9906487464480561"
            ]
          },
          "metadata": {
            "tags": []
          },
          "execution_count": 88
        }
      ]
    },
    {
      "cell_type": "code",
      "metadata": {
        "colab": {
          "base_uri": "https://localhost:8080/",
          "height": 391
        },
        "id": "SXp3X4mf3YU1",
        "outputId": "2a0386cf-34ef-4f32-ad6b-f6f633cef6ee"
      },
      "source": [
        "sns.heatmap(df2.corr(),annot=True)\n",
        "plt.show()"
      ],
      "execution_count": 89,
      "outputs": [
        {
          "output_type": "display_data",
          "data": {
            "image/png": "[encoded data removed]",
            "text/plain": [
              "<Figure size 432x288 with 2 Axes>"
            ]
          },
          "metadata": {
            "tags": [],
            "needs_background": "light"
          }
        }
      ]
    },
    {
      "cell_type": "markdown",
      "metadata": {
        "id": "Iwj86rcV3cx8"
      },
      "source": [
        "HYPOTHESIS TESTING"
      ]
    },
    {
      "cell_type": "code",
      "metadata": {
        "id": "6pjmg17x3Yam"
      },
      "source": [
        "##  MY Null hypothesis: \n",
        "      # The average number of blue cars taken does not differ from that of the blue cars returned\n",
        "##  Alternative hypothesis:  \n",
        "      # the average number of blue cars taken is differs from that of the blue cars returned"
      ],
      "execution_count": 90,
      "outputs": []
    },
    {
      "cell_type": "code",
      "metadata": {
        "colab": {
          "base_uri": "https://localhost:8080/"
        },
        "id": "JSd_9qol3u41",
        "outputId": "ced6d7cd-3664-4c73-a5fd-fb8140d681b1"
      },
      "source": [
        "df2.columns"
      ],
      "execution_count": 91,
      "outputs": [
        {
          "output_type": "execute_result",
          "data": {
            "text/plain": [
              "Index(['postal_code', 'dayofweek', 'day_type', 'bluecars_taken_sum',\n",
              "       'bluecars_returned_sum'],\n",
              "      dtype='object')"
            ]
          },
          "metadata": {
            "tags": []
          },
          "execution_count": 91
        }
      ]
    },
    {
      "cell_type": "code",
      "metadata": {
        "colab": {
          "base_uri": "https://localhost:8080/"
        },
        "id": "JVi2av073xIg",
        "outputId": "7dfedcea-4bec-423a-e94d-12a042eabb61"
      },
      "source": [
        "df2.dtypes"
      ],
      "execution_count": 92,
      "outputs": [
        {
          "output_type": "execute_result",
          "data": {
            "text/plain": [
              "postal_code               int64\n",
              "dayofweek                 int64\n",
              "day_type                 object\n",
              "bluecars_taken_sum        int64\n",
              "bluecars_returned_sum     int64\n",
              "dtype: object"
            ]
          },
          "metadata": {
            "tags": []
          },
          "execution_count": 92
        }
      ]
    },
    {
      "cell_type": "code",
      "metadata": {
        "colab": {
          "base_uri": "https://localhost:8080/",
          "height": 572
        },
        "id": "upzQW_fE33lg",
        "outputId": "f3af826c-faee-4d77-cb15-c19d5db48e4f"
      },
      "source": [
        "#dropping the day type column as it does not help in our case here\n",
        "df2.drop(['day_type'], axis=1, inplace=True)\n",
        "df2"
      ],
      "execution_count": 93,
      "outputs": [
        {
          "output_type": "stream",
          "text": [
            "/usr/local/lib/python3.7/dist-packages/pandas/core/frame.py:4174: SettingWithCopyWarning:\n",
            "\n",
            "\n",
            "A value is trying to be set on a copy of a slice from a DataFrame\n",
            "\n",
            "See the caveats in the documentation: https://pandas.pydata.org/pandas-docs/stable/user_guide/indexing.html#returning-a-view-versus-a-copy\n",
            "\n"
          ],
          "name": "stderr"
        },
        {
          "output_type": "execute_result",
          "data": {
            "text/html": [
              "<div>\n",
              "<style scoped>\n",
              "    .dataframe tbody tr th:only-of-type {\n",
              "        vertical-align: middle;\n",
              "    }\n",
              "\n",
              "    .dataframe tbody tr th {\n",
              "        vertical-align: top;\n",
              "    }\n",
              "\n",
              "    .dataframe thead th {\n",
              "        text-align: right;\n",
              "    }\n",
              "</style>\n",
              "<table border=\"1\" class=\"dataframe\">\n",
              "  <thead>\n",
              "    <tr style=\"text-align: right;\">\n",
              "      <th></th>\n",
              "      <th>postal_code</th>\n",
              "      <th>dayofweek</th>\n",
              "      <th>bluecars_taken_sum</th>\n",
              "      <th>bluecars_returned_sum</th>\n",
              "    </tr>\n",
              "  </thead>\n",
              "  <tbody>\n",
              "    <tr>\n",
              "      <th>3905</th>\n",
              "      <td>91330</td>\n",
              "      <td>6</td>\n",
              "      <td>28</td>\n",
              "      <td>17</td>\n",
              "    </tr>\n",
              "    <tr>\n",
              "      <th>3911</th>\n",
              "      <td>91330</td>\n",
              "      <td>5</td>\n",
              "      <td>24</td>\n",
              "      <td>21</td>\n",
              "    </tr>\n",
              "    <tr>\n",
              "      <th>3912</th>\n",
              "      <td>91330</td>\n",
              "      <td>6</td>\n",
              "      <td>27</td>\n",
              "      <td>30</td>\n",
              "    </tr>\n",
              "    <tr>\n",
              "      <th>3918</th>\n",
              "      <td>91330</td>\n",
              "      <td>5</td>\n",
              "      <td>16</td>\n",
              "      <td>10</td>\n",
              "    </tr>\n",
              "    <tr>\n",
              "      <th>3919</th>\n",
              "      <td>91330</td>\n",
              "      <td>6</td>\n",
              "      <td>18</td>\n",
              "      <td>14</td>\n",
              "    </tr>\n",
              "    <tr>\n",
              "      <th>...</th>\n",
              "      <td>...</td>\n",
              "      <td>...</td>\n",
              "      <td>...</td>\n",
              "      <td>...</td>\n",
              "    </tr>\n",
              "    <tr>\n",
              "      <th>16068</th>\n",
              "      <td>95880</td>\n",
              "      <td>6</td>\n",
              "      <td>36</td>\n",
              "      <td>33</td>\n",
              "    </tr>\n",
              "    <tr>\n",
              "      <th>16074</th>\n",
              "      <td>95880</td>\n",
              "      <td>5</td>\n",
              "      <td>15</td>\n",
              "      <td>15</td>\n",
              "    </tr>\n",
              "    <tr>\n",
              "      <th>16075</th>\n",
              "      <td>95880</td>\n",
              "      <td>6</td>\n",
              "      <td>34</td>\n",
              "      <td>32</td>\n",
              "    </tr>\n",
              "    <tr>\n",
              "      <th>16081</th>\n",
              "      <td>95880</td>\n",
              "      <td>5</td>\n",
              "      <td>19</td>\n",
              "      <td>19</td>\n",
              "    </tr>\n",
              "    <tr>\n",
              "      <th>16082</th>\n",
              "      <td>95880</td>\n",
              "      <td>6</td>\n",
              "      <td>33</td>\n",
              "      <td>35</td>\n",
              "    </tr>\n",
              "  </tbody>\n",
              "</table>\n",
              "<p>2963 rows × 4 columns</p>\n",
              "</div>"
            ],
            "text/plain": [
              "       postal_code  dayofweek  bluecars_taken_sum  bluecars_returned_sum\n",
              "3905         91330          6                  28                     17\n",
              "3911         91330          5                  24                     21\n",
              "3912         91330          6                  27                     30\n",
              "3918         91330          5                  16                     10\n",
              "3919         91330          6                  18                     14\n",
              "...            ...        ...                 ...                    ...\n",
              "16068        95880          6                  36                     33\n",
              "16074        95880          5                  15                     15\n",
              "16075        95880          6                  34                     32\n",
              "16081        95880          5                  19                     19\n",
              "16082        95880          6                  33                     35\n",
              "\n",
              "[2963 rows x 4 columns]"
            ]
          },
          "metadata": {
            "tags": []
          },
          "execution_count": 93
        }
      ]
    },
    {
      "cell_type": "code",
      "metadata": {
        "id": "MuMwg_6P33of"
      },
      "source": [
        "# visualization styling code\n",
        "sns.set(rc={'figure.figsize':(13, 7.5)})\n",
        "sns.set_context('talk')"
      ],
      "execution_count": 94,
      "outputs": []
    },
    {
      "cell_type": "code",
      "metadata": {
        "colab": {
          "base_uri": "https://localhost:8080/"
        },
        "id": "srBOG3VB33uH",
        "outputId": "48221152-0cc6-4f6a-ce22-cf6033c9d875"
      },
      "source": [
        "df2.count()"
      ],
      "execution_count": 95,
      "outputs": [
        {
          "output_type": "execute_result",
          "data": {
            "text/plain": [
              "postal_code              2963\n",
              "dayofweek                2963\n",
              "bluecars_taken_sum       2963\n",
              "bluecars_returned_sum    2963\n",
              "dtype: int64"
            ]
          },
          "metadata": {
            "tags": []
          },
          "execution_count": 95
        }
      ]
    },
    {
      "cell_type": "code",
      "metadata": {
        "id": "-uFkbagc4Ofy"
      },
      "source": [
        "## NORMALITY TESTS\n",
        "from scipy.stats import shapiro\n",
        "\n",
        "def shapiro_test(df2, col_list):\n",
        "    for x in col_list:\n",
        "        print(x)\n",
        "        data = df2[x]\n",
        "        stat, p = shapiro(data)\n",
        "        print('Statistics=%.3f, p=%.3f' % (stat, p))\n",
        "        # interpret\n",
        "        alpha = 0.05\n",
        "        if p > alpha:\n",
        "            print('Sample looks Gaussian (fail to reject H0)')\n",
        "        else:\n",
        "            print('Sample does not look Gaussian (reject H0)')\n",
        "        print('\\n')"
      ],
      "execution_count": 96,
      "outputs": []
    },
    {
      "cell_type": "code",
      "metadata": {
        "colab": {
          "base_uri": "https://localhost:8080/"
        },
        "id": "D6rKvKzf4Oj8",
        "outputId": "be435aeb-f231-4cc5-d2b2-453479e44272"
      },
      "source": [
        "# shapiro Wilk's test\n",
        "shapiro_test(df2, list(df2.columns))"
      ],
      "execution_count": 97,
      "outputs": [
        {
          "output_type": "stream",
          "text": [
            "postal_code\n",
            "Statistics=0.927, p=0.000\n",
            "Sample does not look Gaussian (reject H0)\n",
            "\n",
            "\n",
            "dayofweek\n",
            "Statistics=0.635, p=0.000\n",
            "Sample does not look Gaussian (reject H0)\n",
            "\n",
            "\n",
            "bluecars_taken_sum\n",
            "Statistics=0.869, p=0.000\n",
            "Sample does not look Gaussian (reject H0)\n",
            "\n",
            "\n",
            "bluecars_returned_sum\n",
            "Statistics=0.863, p=0.000\n",
            "Sample does not look Gaussian (reject H0)\n",
            "\n",
            "\n"
          ],
          "name": "stdout"
        }
      ]
    },
    {
      "cell_type": "code",
      "metadata": {
        "colab": {
          "base_uri": "https://localhost:8080/",
          "height": 17
        },
        "id": "AypBgDp24ZKF",
        "outputId": "79335bff-b2db-41b0-bc3b-3d669210d25f"
      },
      "source": [
        "import scipy.stats as stats\n",
        "from sklearn.cluster import KMeans\n",
        "from sklearn.preprocessing import LabelEncoder\n",
        "from sklearn.preprocessing import MinMaxScaler\n",
        "#Call required libraries\n",
        "import time                   # To time processes\n",
        "import warnings               # To suppress warnings\n",
        "\n",
        "import numpy as np            # Data manipulation\n",
        "import pandas as pd           # Dataframe manipulatio \n",
        "import matplotlib.pyplot as plt                   # For graphics\n",
        "%matplotlib inline\n",
        "import seaborn as sns\n",
        "sns.set()\n",
        "import plotly.graph_objs as go\n",
        "from plotly.offline import download_plotlyjs, init_notebook_mode, plot, iplot\n",
        "init_notebook_mode(connected=True)\n",
        "from sklearn.preprocessing import StandardScaler  # For scaling dataset\n",
        "from sklearn.cluster import KMeans, AgglomerativeClustering, AffinityPropagation #For clustering\n",
        "from sklearn.mixture import GaussianMixture #For GMM clustering\n",
        "import os                     # For os related operations\n",
        "import sys"
      ],
      "execution_count": 98,
      "outputs": [
        {
          "output_type": "display_data",
          "data": {
            "text/html": [
              "        <script type=\"text/javascript\">\n",
              "        window.PlotlyConfig = {MathJaxConfig: 'local'};\n",
              "        if (window.MathJax) {MathJax.Hub.Config({SVG: {font: \"STIX-Web\"}});}\n",
              "        if (typeof require !== 'undefined') {\n",
              "        require.undef(\"plotly\");\n",
              "        requirejs.config({\n",
              "            paths: {\n",
              "                'plotly': ['https://cdn.plot.ly/plotly-latest.min']\n",
              "            }\n",
              "        });\n",
              "        require(['plotly'], function(Plotly) {\n",
              "            window._Plotly = Plotly;\n",
              "        });\n",
              "        }\n",
              "        </script>\n",
              "        "
            ]
          },
          "metadata": {
            "tags": []
          }
        }
      ]
    },
    {
      "cell_type": "markdown",
      "metadata": {
        "id": "Zl5pVYtr4ldN"
      },
      "source": [
        "STRATIFIED SAMPLING"
      ]
    },
    {
      "cell_type": "code",
      "metadata": {
        "colab": {
          "base_uri": "https://localhost:8080/",
          "height": 424
        },
        "id": "3MW88EKh4ZM7",
        "outputId": "7d1f8ab3-088d-465e-8301-4f0467fa62ee"
      },
      "source": [
        "# Stratified sample\n",
        "df4 = df2.groupby('dayofweek', group_keys=False).apply(lambda grouped_subset : grouped_subset.sample(frac=0.1))\n",
        "df4"
      ],
      "execution_count": 99,
      "outputs": [
        {
          "output_type": "execute_result",
          "data": {
            "text/html": [
              "<div>\n",
              "<style scoped>\n",
              "    .dataframe tbody tr th:only-of-type {\n",
              "        vertical-align: middle;\n",
              "    }\n",
              "\n",
              "    .dataframe tbody tr th {\n",
              "        vertical-align: top;\n",
              "    }\n",
              "\n",
              "    .dataframe thead th {\n",
              "        text-align: right;\n",
              "    }\n",
              "</style>\n",
              "<table border=\"1\" class=\"dataframe\">\n",
              "  <thead>\n",
              "    <tr style=\"text-align: right;\">\n",
              "      <th></th>\n",
              "      <th>postal_code</th>\n",
              "      <th>dayofweek</th>\n",
              "      <th>bluecars_taken_sum</th>\n",
              "      <th>bluecars_returned_sum</th>\n",
              "    </tr>\n",
              "  </thead>\n",
              "  <tbody>\n",
              "    <tr>\n",
              "      <th>12807</th>\n",
              "      <td>93700</td>\n",
              "      <td>5</td>\n",
              "      <td>53</td>\n",
              "      <td>56</td>\n",
              "    </tr>\n",
              "    <tr>\n",
              "      <th>14827</th>\n",
              "      <td>94340</td>\n",
              "      <td>5</td>\n",
              "      <td>55</td>\n",
              "      <td>56</td>\n",
              "    </tr>\n",
              "    <tr>\n",
              "      <th>11605</th>\n",
              "      <td>93350</td>\n",
              "      <td>5</td>\n",
              "      <td>14</td>\n",
              "      <td>15</td>\n",
              "    </tr>\n",
              "    <tr>\n",
              "      <th>4792</th>\n",
              "      <td>92110</td>\n",
              "      <td>5</td>\n",
              "      <td>25</td>\n",
              "      <td>25</td>\n",
              "    </tr>\n",
              "    <tr>\n",
              "      <th>4169</th>\n",
              "      <td>91370</td>\n",
              "      <td>5</td>\n",
              "      <td>11</td>\n",
              "      <td>8</td>\n",
              "    </tr>\n",
              "    <tr>\n",
              "      <th>...</th>\n",
              "      <td>...</td>\n",
              "      <td>...</td>\n",
              "      <td>...</td>\n",
              "      <td>...</td>\n",
              "    </tr>\n",
              "    <tr>\n",
              "      <th>4021</th>\n",
              "      <td>91330</td>\n",
              "      <td>6</td>\n",
              "      <td>30</td>\n",
              "      <td>15</td>\n",
              "    </tr>\n",
              "    <tr>\n",
              "      <th>15586</th>\n",
              "      <td>94800</td>\n",
              "      <td>6</td>\n",
              "      <td>50</td>\n",
              "      <td>76</td>\n",
              "    </tr>\n",
              "    <tr>\n",
              "      <th>7624</th>\n",
              "      <td>92310</td>\n",
              "      <td>6</td>\n",
              "      <td>82</td>\n",
              "      <td>85</td>\n",
              "    </tr>\n",
              "    <tr>\n",
              "      <th>9066</th>\n",
              "      <td>92410</td>\n",
              "      <td>6</td>\n",
              "      <td>15</td>\n",
              "      <td>13</td>\n",
              "    </tr>\n",
              "    <tr>\n",
              "      <th>5321</th>\n",
              "      <td>92150</td>\n",
              "      <td>6</td>\n",
              "      <td>149</td>\n",
              "      <td>165</td>\n",
              "    </tr>\n",
              "  </tbody>\n",
              "</table>\n",
              "<p>296 rows × 4 columns</p>\n",
              "</div>"
            ],
            "text/plain": [
              "       postal_code  dayofweek  bluecars_taken_sum  bluecars_returned_sum\n",
              "12807        93700          5                  53                     56\n",
              "14827        94340          5                  55                     56\n",
              "11605        93350          5                  14                     15\n",
              "4792         92110          5                  25                     25\n",
              "4169         91370          5                  11                      8\n",
              "...            ...        ...                 ...                    ...\n",
              "4021         91330          6                  30                     15\n",
              "15586        94800          6                  50                     76\n",
              "7624         92310          6                  82                     85\n",
              "9066         92410          6                  15                     13\n",
              "5321         92150          6                 149                    165\n",
              "\n",
              "[296 rows x 4 columns]"
            ]
          },
          "metadata": {
            "tags": []
          },
          "execution_count": 99
        }
      ]
    },
    {
      "cell_type": "code",
      "metadata": {
        "colab": {
          "base_uri": "https://localhost:8080/"
        },
        "id": "NBzwkiHI4ZP0",
        "outputId": "f9b19b26-e534-46df-de31-0e79ffaff854"
      },
      "source": [
        "# pop mean\n",
        "a = df['BlueCars_taken_sum'].mean()\n",
        "a"
      ],
      "execution_count": 100,
      "outputs": [
        {
          "output_type": "execute_result",
          "data": {
            "text/plain": [
              "125.92695057506994"
            ]
          },
          "metadata": {
            "tags": []
          },
          "execution_count": 100
        }
      ]
    },
    {
      "cell_type": "code",
      "metadata": {
        "colab": {
          "base_uri": "https://localhost:8080/"
        },
        "id": "MSY-GlfK4wYn",
        "outputId": "d237ce34-269d-4359-e580-6ffcc5dd9418"
      },
      "source": [
        "d = df['BlueCars_returned_sum'].mean()\n",
        "d"
      ],
      "execution_count": 101,
      "outputs": [
        {
          "output_type": "execute_result",
          "data": {
            "text/plain": [
              "125.912713708424"
            ]
          },
          "metadata": {
            "tags": []
          },
          "execution_count": 101
        }
      ]
    },
    {
      "cell_type": "code",
      "metadata": {
        "colab": {
          "base_uri": "https://localhost:8080/"
        },
        "id": "1EF83XaA4wcS",
        "outputId": "d9ae8c30-2450-4370-9ff8-a44e37bd45d0"
      },
      "source": [
        "# sample mean\n",
        "b = df4['bluecars_taken_sum'].mean()\n",
        "b"
      ],
      "execution_count": 102,
      "outputs": [
        {
          "output_type": "execute_result",
          "data": {
            "text/plain": [
              "58.13513513513514"
            ]
          },
          "metadata": {
            "tags": []
          },
          "execution_count": 102
        }
      ]
    },
    {
      "cell_type": "code",
      "metadata": {
        "colab": {
          "base_uri": "https://localhost:8080/"
        },
        "id": "yf5R8Xmo4wgL",
        "outputId": "d72fb0b0-d904-4448-91cf-700154528228"
      },
      "source": [
        "e = df4['bluecars_returned_sum'].mean()\n",
        "e"
      ],
      "execution_count": 103,
      "outputs": [
        {
          "output_type": "execute_result",
          "data": {
            "text/plain": [
              "57.7972972972973"
            ]
          },
          "metadata": {
            "tags": []
          },
          "execution_count": 103
        }
      ]
    },
    {
      "cell_type": "code",
      "metadata": {
        "colab": {
          "base_uri": "https://localhost:8080/"
        },
        "id": "eti62m7U4wln",
        "outputId": "74af26c7-1656-4433-cced-71bcfe745a24"
      },
      "source": [
        "# sample standard deviation\n",
        "c = df4['bluecars_taken_sum'].std()\n",
        "c"
      ],
      "execution_count": 104,
      "outputs": [
        {
          "output_type": "execute_result",
          "data": {
            "text/plain": [
              "46.32122896537865"
            ]
          },
          "metadata": {
            "tags": []
          },
          "execution_count": 104
        }
      ]
    },
    {
      "cell_type": "code",
      "metadata": {
        "colab": {
          "base_uri": "https://localhost:8080/"
        },
        "id": "xVcirv1h463n",
        "outputId": "3e1f0f20-45f9-4495-e173-fba1be7c75bf"
      },
      "source": [
        "# calculating the z-score\n",
        "zscore = (b-a) / c\n",
        "zscore"
      ],
      "execution_count": 105,
      "outputs": [
        {
          "output_type": "execute_result",
          "data": {
            "text/plain": [
              "-1.4635150438388338"
            ]
          },
          "metadata": {
            "tags": []
          },
          "execution_count": 105
        }
      ]
    },
    {
      "cell_type": "code",
      "metadata": {
        "colab": {
          "base_uri": "https://localhost:8080/"
        },
        "id": "nQamL3H_466X",
        "outputId": "9181a746-256f-497a-eae1-69f47e6d1d8f"
      },
      "source": [
        "#calculating the p value\n",
        "from scipy.stats import norm\n",
        "pro = stats.norm.cdf(zscore)\n",
        "pro"
      ],
      "execution_count": 106,
      "outputs": [
        {
          "output_type": "execute_result",
          "data": {
            "text/plain": [
              "0.07166325011332628"
            ]
          },
          "metadata": {
            "tags": []
          },
          "execution_count": 106
        }
      ]
    },
    {
      "cell_type": "code",
      "metadata": {
        "colab": {
          "base_uri": "https://localhost:8080/"
        },
        "id": "IiWyN7qC47Aw",
        "outputId": "b2fa4ca4-e44f-42e8-8285-6f8f674edf7c"
      },
      "source": [
        "#interpretation of the p value\n",
        "if pro < 0.05:    # alpha value is 0.05 or 5%\n",
        "   print(\" we are rejecting null hypothesis\")\n",
        "else:\n",
        "  print(\"we fail to reject null hypothesis\")"
      ],
      "execution_count": 107,
      "outputs": [
        {
          "output_type": "stream",
          "text": [
            "we fail to reject null hypothesis\n"
          ],
          "name": "stdout"
        }
      ]
    },
    {
      "cell_type": "code",
      "metadata": {
        "colab": {
          "base_uri": "https://localhost:8080/"
        },
        "id": "Wlxb_YUx47EI",
        "outputId": "2dd37a62-c5a8-407a-f8b3-cb21c083c960"
      },
      "source": [
        "# point estimation\n",
        "# population.mean() - sample.mean()\n",
        "# we will use the mean for the blue cars that were taken\n",
        "\n",
        "df['BlueCars_taken_sum'].mean() - df4['bluecars_taken_sum'].mean()"
      ],
      "execution_count": 108,
      "outputs": [
        {
          "output_type": "execute_result",
          "data": {
            "text/plain": [
              "67.7918154399348"
            ]
          },
          "metadata": {
            "tags": []
          },
          "execution_count": 108
        }
      ]
    },
    {
      "cell_type": "code",
      "metadata": {
        "colab": {
          "base_uri": "https://localhost:8080/"
        },
        "id": "IblZw3BI5F3Q",
        "outputId": "5f0ce189-56be-4278-a969-5dd6cc32b2fd"
      },
      "source": [
        "import math\n",
        "sample_mean = df4['bluecars_taken_sum'].mean()\n",
        "\n",
        "z_critical = stats.norm.ppf(q = 0.975)  # Get the z-critical value*\n",
        "\n",
        "print(\"z-critical value:\")              # Check the z-critical value\n",
        "print(z_critical)                        \n",
        "\n",
        "pop_stdev = df['BlueCars_taken_sum'].std()  # Get the population standard deviation\n",
        "\n",
        "margin_of_error = z_critical * (pop_stdev/math.sqrt(296))\n",
        "\n",
        "confidence_interval = (sample_mean - margin_of_error,\n",
        "                       sample_mean + margin_of_error)  \n",
        "\n",
        "print(\"Confidence interval:\")\n",
        "print(confidence_interval)"
      ],
      "execution_count": 109,
      "outputs": [
        {
          "output_type": "stream",
          "text": [
            "z-critical value:\n",
            "1.959963984540054\n",
            "Confidence interval:\n",
            "(37.0112293957926, 79.25904087447768)\n"
          ],
          "name": "stdout"
        }
      ]
    },
    {
      "cell_type": "markdown",
      "metadata": {
        "id": "Q2hAbxms5mk6"
      },
      "source": [
        "CONCLUSION\n",
        "We fail to reject the null hypothesis becase there is not sufficient evidence to prove that the average means of the bluecars taken and returned are not equal."
      ]
    },
    {
      "cell_type": "code",
      "metadata": {
        "id": "CSvmYM_i5F66"
      },
      "source": [
        ""
      ],
      "execution_count": 109,
      "outputs": []
    }
  ]
}